{
 "cells": [
  {
   "cell_type": "code",
   "execution_count": 18,
   "metadata": {},
   "outputs": [],
   "source": [
    "import pandas as pd\n",
    "from features import count_words, sensational_words, unique_ratio\n",
    "from preprocess import preprocess"
   ]
  },
  {
   "cell_type": "code",
   "execution_count": 19,
   "metadata": {},
   "outputs": [],
   "source": [
    "# import datasets\n",
    "baseline = pd.read_csv('../../data/baseline_clean.csv')\n",
    "news = pd.read_csv('../../data/news_clean.csv')\n",
    "\n",
    "# extend col width to see full headline\n",
    "pd.set_option('display.max_colwidth', 0)"
   ]
  },
  {
   "cell_type": "code",
   "execution_count": 20,
   "metadata": {},
   "outputs": [],
   "source": [
    "# add column for number of words in headlines\n",
    "baseline['length'] = baseline['headline'].apply(count_words)\n",
    "news['length'] = news['headline'].apply(count_words)"
   ]
  },
  {
   "cell_type": "code",
   "execution_count": 21,
   "metadata": {},
   "outputs": [],
   "source": [
    "# add column for ratio of unique to total words in headlines\n",
    "baseline['unique'] = baseline['headline'].apply(unique_ratio)\n",
    "news['unique'] = news['headline'].apply(unique_ratio)"
   ]
  },
  {
   "cell_type": "code",
   "execution_count": 22,
   "metadata": {},
   "outputs": [],
   "source": [
    "# preprocess headlines by converting into lower case, removing punctuation, then tokenizing\n",
    "# removing stop words, lemmatizing and stemming words, then joining into a sentence\n",
    "baseline['headline_processed'] = baseline['headline'].apply(preprocess)\n",
    "news['headline_processed'] = news['headline'].apply(preprocess)"
   ]
  },
  {
   "cell_type": "code",
   "execution_count": 23,
   "metadata": {},
   "outputs": [
    {
     "data": {
      "text/plain": [
       "product    37\n",
       "gift       17\n",
       "thing      15\n",
       "make       15\n",
       "thatll     14\n",
       "season     13\n",
       "new        13\n",
       "realli     12\n",
       "home       12\n",
       "day        12\n",
       "star       11\n",
       "want       11\n",
       "youll      10\n",
       "peopl      10\n",
       "say        9 \n",
       "perri      9 \n",
       "matthew    9 \n",
       "movi       7 \n",
       "one        7 \n",
       "get        7 \n",
       "Name: count, dtype: int64"
      ]
     },
     "execution_count": 23,
     "metadata": {},
     "output_type": "execute_result"
    }
   ],
   "source": [
    "# recall the 20 most frequent words in buzzfeed, entertainment-weekly\n",
    "tabloids = baseline[baseline['source'] != 'Reuters']\n",
    "pd.Series(' '.join(tabloids['headline_processed']).split()).value_counts()[:20]"
   ]
  },
  {
   "cell_type": "code",
   "execution_count": 24,
   "metadata": {},
   "outputs": [],
   "source": [
    "# get frequency of headlines using the list of sensational words\n",
    "baseline['sensational_count'] = baseline['headline_processed'].apply(lambda row: sum([row.split().count(word) for word in sensational_words]))\n",
    "baseline['frequency'] = baseline['sensational_count'] / baseline['length']\n",
    "baseline = baseline.drop(columns='sensational_count')\n",
    "\n",
    "news['sensational_count'] = news['headline_processed'].apply(lambda row: sum([row.split().count(word) for word in sensational_words]))\n",
    "news['frequency'] = news['sensational_count'] / news['length']\n",
    "news = news.drop(columns='sensational_count')"
   ]
  },
  {
   "cell_type": "code",
   "execution_count": 29,
   "metadata": {},
   "outputs": [],
   "source": [
    "# change column order\n",
    "baseline = baseline[['source','headline','headline_processed','length','unique','frequency']]\n",
    "news = news[['source','headline','headline_processed','length','unique','frequency']]"
   ]
  },
  {
   "cell_type": "code",
   "execution_count": 30,
   "metadata": {},
   "outputs": [
    {
     "data": {
      "text/html": [
       "<div>\n",
       "<style scoped>\n",
       "    .dataframe tbody tr th:only-of-type {\n",
       "        vertical-align: middle;\n",
       "    }\n",
       "\n",
       "    .dataframe tbody tr th {\n",
       "        vertical-align: top;\n",
       "    }\n",
       "\n",
       "    .dataframe thead th {\n",
       "        text-align: right;\n",
       "    }\n",
       "</style>\n",
       "<table border=\"1\" class=\"dataframe\">\n",
       "  <thead>\n",
       "    <tr style=\"text-align: right;\">\n",
       "      <th></th>\n",
       "      <th>source</th>\n",
       "      <th>headline</th>\n",
       "      <th>headline_processed</th>\n",
       "      <th>length</th>\n",
       "      <th>unique</th>\n",
       "      <th>frequency</th>\n",
       "    </tr>\n",
       "  </thead>\n",
       "  <tbody>\n",
       "    <tr>\n",
       "      <th>0</th>\n",
       "      <td>Reuters</td>\n",
       "      <td>Germany's Kuehne examines offer for Signa's Hamburg skyscraper, Handelsblatt reports</td>\n",
       "      <td>germani kuehn examin offer signa hamburg skyscrap handelsblatt report</td>\n",
       "      <td>10</td>\n",
       "      <td>1.0</td>\n",
       "      <td>0.0</td>\n",
       "    </tr>\n",
       "    <tr>\n",
       "      <th>1</th>\n",
       "      <td>Reuters</td>\n",
       "      <td>Shoppers click 'buy' as retailers slash prices ahead of Cyber Monday</td>\n",
       "      <td>shopper click buy retail slash price ahead cyber monday</td>\n",
       "      <td>11</td>\n",
       "      <td>1.0</td>\n",
       "      <td>0.0</td>\n",
       "    </tr>\n",
       "    <tr>\n",
       "      <th>2</th>\n",
       "      <td>Reuters</td>\n",
       "      <td>US Black Friday sales rise 2.5% -Mastercard Spendingpulse</td>\n",
       "      <td>u black friday sale rise mastercard spendingpuls</td>\n",
       "      <td>8</td>\n",
       "      <td>1.0</td>\n",
       "      <td>0.0</td>\n",
       "    </tr>\n",
       "    <tr>\n",
       "      <th>3</th>\n",
       "      <td>Reuters</td>\n",
       "      <td>X may lose up to $75M by year-end on advertiser exodus</td>\n",
       "      <td>x may lose yearend advertis exodu</td>\n",
       "      <td>11</td>\n",
       "      <td>1.0</td>\n",
       "      <td>0.0</td>\n",
       "    </tr>\n",
       "    <tr>\n",
       "      <th>4</th>\n",
       "      <td>Reuters</td>\n",
       "      <td>Sri Lanka to OK Sinopec's $4.5 bln refinery proposal on Monday -minister</td>\n",
       "      <td>sri lanka ok sinopec bln refineri propos monday minist</td>\n",
       "      <td>12</td>\n",
       "      <td>1.0</td>\n",
       "      <td>0.0</td>\n",
       "    </tr>\n",
       "  </tbody>\n",
       "</table>\n",
       "</div>"
      ],
      "text/plain": [
       "    source  \\\n",
       "0  Reuters   \n",
       "1  Reuters   \n",
       "2  Reuters   \n",
       "3  Reuters   \n",
       "4  Reuters   \n",
       "\n",
       "                                                                               headline  \\\n",
       "0  Germany's Kuehne examines offer for Signa's Hamburg skyscraper, Handelsblatt reports   \n",
       "1  Shoppers click 'buy' as retailers slash prices ahead of Cyber Monday                   \n",
       "2  US Black Friday sales rise 2.5% -Mastercard Spendingpulse                              \n",
       "3  X may lose up to $75M by year-end on advertiser exodus                                 \n",
       "4  Sri Lanka to OK Sinopec's $4.5 bln refinery proposal on Monday -minister               \n",
       "\n",
       "                                                      headline_processed  \\\n",
       "0  germani kuehn examin offer signa hamburg skyscrap handelsblatt report   \n",
       "1  shopper click buy retail slash price ahead cyber monday                 \n",
       "2  u black friday sale rise mastercard spendingpuls                        \n",
       "3  x may lose yearend advertis exodu                                       \n",
       "4  sri lanka ok sinopec bln refineri propos monday minist                  \n",
       "\n",
       "   length  unique  frequency  \n",
       "0  10      1.0     0.0        \n",
       "1  11      1.0     0.0        \n",
       "2  8       1.0     0.0        \n",
       "3  11      1.0     0.0        \n",
       "4  12      1.0     0.0        "
      ]
     },
     "execution_count": 30,
     "metadata": {},
     "output_type": "execute_result"
    }
   ],
   "source": [
    "baseline.head()"
   ]
  },
  {
   "cell_type": "code",
   "execution_count": null,
   "metadata": {},
   "outputs": [],
   "source": []
  }
 ],
 "metadata": {
  "kernelspec": {
   "display_name": "lhl",
   "language": "python",
   "name": "lhl"
  },
  "language_info": {
   "codemirror_mode": {
    "name": "ipython",
    "version": 3
   },
   "file_extension": ".py",
   "mimetype": "text/x-python",
   "name": "python",
   "nbconvert_exporter": "python",
   "pygments_lexer": "ipython3",
   "version": "3.11.5"
  }
 },
 "nbformat": 4,
 "nbformat_minor": 2
}
