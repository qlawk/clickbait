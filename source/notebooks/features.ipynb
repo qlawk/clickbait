{
 "cells": [
  {
   "cell_type": "code",
   "execution_count": 1,
   "metadata": {},
   "outputs": [],
   "source": [
    "import pandas as pd\n",
    "from features import average_length, count_words, sensational_words, unique_ratio, upper_count\n",
    "from preprocess import preprocess"
   ]
  },
  {
   "cell_type": "code",
   "execution_count": 2,
   "metadata": {},
   "outputs": [],
   "source": [
    "# import datasets\n",
    "baseline = pd.read_csv('../../data/baseline_clean.csv')\n",
    "news = pd.read_csv('../../data/news_clean.csv')\n",
    "\n",
    "# extend col width to see full headline\n",
    "pd.set_option('display.max_colwidth', 0)"
   ]
  },
  {
   "cell_type": "code",
   "execution_count": 3,
   "metadata": {},
   "outputs": [],
   "source": [
    "# add column for number of words in headlines\n",
    "baseline['headline_length'] = baseline['headline'].apply(count_words)\n",
    "news['headline_length'] = news['headline'].apply(count_words)"
   ]
  },
  {
   "cell_type": "code",
   "execution_count": 4,
   "metadata": {},
   "outputs": [],
   "source": [
    "# preprocess headlines by converting into lower case, removing punctuation, then tokenizing\n",
    "# removing stop words, lemmatizing and stemming words, then joining into a sentence\n",
    "baseline['headline_processed'] = baseline['headline'].apply(preprocess)\n",
    "news['headline_processed'] = news['headline'].apply(preprocess)"
   ]
  },
  {
   "cell_type": "code",
   "execution_count": 5,
   "metadata": {},
   "outputs": [],
   "source": [
    "# add column for ratio of unique to total words in headlines\n",
    "baseline['unique_words'] = baseline['headline_processed'].apply(unique_ratio)\n",
    "news['unique_words'] = news['headline_processed'].apply(unique_ratio)"
   ]
  },
  {
   "cell_type": "code",
   "execution_count": 6,
   "metadata": {},
   "outputs": [
    {
     "data": {
      "text/plain": [
       "product    38\n",
       "gift       21\n",
       "want       15\n",
       "make       14\n",
       "say        12\n",
       "peopl      12\n",
       "home       12\n",
       "thatll     10\n",
       "star       9 \n",
       "new        9 \n",
       "season     9 \n",
       "realli     9 \n",
       "perri      8 \n",
       "get        8 \n",
       "matthew    8 \n",
       "first      7 \n",
       "look       7 \n",
       "share      7 \n",
       "thing      7 \n",
       "kid        6 \n",
       "Name: count, dtype: int64"
      ]
     },
     "execution_count": 6,
     "metadata": {},
     "output_type": "execute_result"
    }
   ],
   "source": [
    "# recall the 20 most frequent words in buzzfeed, entertainment-weekly\n",
    "tabloids = baseline[(baseline['source'] == 'Buzzfeed') | (baseline['source'] == 'Entertainment Weekly')]\n",
    "pd.Series(' '.join(tabloids['headline_processed']).split()).value_counts()[:20]"
   ]
  },
  {
   "cell_type": "code",
   "execution_count": null,
   "metadata": {},
   "outputs": [],
   "source": [
    "# from a list of common sensational words in tabloids + top 20 total base words from buzzfeed, entertainment-weekly\n",
    "# get a ratio of sensational words per total words in a headline\n",
    "\n",
    "baseline['buzzword_frequency'] = baseline['headline_processed'].apply(lambda row: sum(word == x_word for word in row.split() for x_word in sensational_words))\n",
    "baseline['buzzword_frequency'] = baseline['buzzword_frequency'] / baseline['headline_length']\n",
    "\n",
    "news['buzzword_frequency'] = news['headline_processed'].apply(lambda row: sum(word == x_word for word in row.split() for x_word in sensational_words))\n",
    "news['buzzword_frequency'] = news['buzzword_frequency'] / news['headline_length']"
   ]
  },
  {
   "cell_type": "code",
   "execution_count": null,
   "metadata": {},
   "outputs": [],
   "source": [
    "# returns average word length in a sentence for both regular, processed headlines\n",
    "baseline['word_length'] = baseline['headline'].apply(average_length)\n",
    "news['word_length'] = news['headline'].apply(average_length)\n",
    "\n",
    "baseline['word_length_processed'] = baseline['headline_processed'].apply(average_length)\n",
    "news['word_length_processed'] = news['headline_processed'].apply(average_length)"
   ]
  },
  {
   "cell_type": "code",
   "execution_count": null,
   "metadata": {},
   "outputs": [],
   "source": [
    "# returns a ratio of number of words starting w/ an upper case letter by total word count\n",
    "baseline['upper_words'] = baseline['headline'].apply(upper_count)\n",
    "news['upper_words'] = news['headline'].apply(upper_count)"
   ]
  },
  {
   "cell_type": "code",
   "execution_count": null,
   "metadata": {},
   "outputs": [],
   "source": [
    "# change column order\n",
    "baseline = baseline[['source','headline','headline_processed','headline_length','unique_words','buzzword_frequency','word_length','word_length_processed','upper_words']]\n",
    "news = news[['source','headline','headline_processed','headline_length','unique_words','buzzword_frequency','word_length','word_length_processed','upper_words']]"
   ]
  },
  {
   "cell_type": "code",
   "execution_count": null,
   "metadata": {},
   "outputs": [],
   "source": [
    "# add class 0 to source: reuters, class 1 to source: buzzfeed, entertainment-weekly\n",
    "# reuters serves as the non-sensational control, while the other 2 are sensational\n",
    "\n",
    "baseline['sensational'] = baseline['source']\n",
    "baseline.loc[baseline['source'] == 'Associated Press', 'sensational'] = 0\n",
    "baseline.loc[baseline['source'] == 'Buzzfeed', 'sensational'] = 1\n",
    "baseline.loc[baseline['source'] == 'Entertainment Weekly', 'sensational'] = 1\n",
    "baseline.loc[baseline['source'] == 'Reuters', 'sensational'] = 0"
   ]
  },
  {
   "cell_type": "code",
   "execution_count": null,
   "metadata": {},
   "outputs": [],
   "source": [
    "# save dataframes as csv\n",
    "baseline.to_csv('baseline_features.csv',index=False)\n",
    "news.to_csv('news_features.csv',index=False)"
   ]
  },
  {
   "cell_type": "code",
   "execution_count": null,
   "metadata": {},
   "outputs": [],
   "source": []
  }
 ],
 "metadata": {
  "kernelspec": {
   "display_name": "lhl",
   "language": "python",
   "name": "lhl"
  },
  "language_info": {
   "codemirror_mode": {
    "name": "ipython",
    "version": 3
   },
   "file_extension": ".py",
   "mimetype": "text/x-python",
   "name": "python",
   "nbconvert_exporter": "python",
   "pygments_lexer": "ipython3",
   "version": "3.11.5"
  }
 },
 "nbformat": 4,
 "nbformat_minor": 2
}
