{
 "cells": [
  {
   "cell_type": "code",
   "execution_count": 10,
   "metadata": {
    "tags": []
   },
   "outputs": [],
   "source": [
    "from get_news import get_headlines\n",
    "import pandas as pd\n",
    "import numpy as np"
   ]
  },
  {
   "cell_type": "code",
   "execution_count": 3,
   "metadata": {
    "tags": []
   },
   "outputs": [],
   "source": [
    "# gets headlines from news source as csv\n",
    "sources = ['reuters','buzzfeed','entertainment-weekly']\n",
    "\n",
    "for source in sources:\n",
    "    get_headlines(source)"
   ]
  },
  {
   "cell_type": "code",
   "execution_count": 7,
   "metadata": {
    "tags": []
   },
   "outputs": [
    {
     "data": {
      "text/html": [
       "<div>\n",
       "<style scoped>\n",
       "    .dataframe tbody tr th:only-of-type {\n",
       "        vertical-align: middle;\n",
       "    }\n",
       "\n",
       "    .dataframe tbody tr th {\n",
       "        vertical-align: top;\n",
       "    }\n",
       "\n",
       "    .dataframe thead th {\n",
       "        text-align: right;\n",
       "    }\n",
       "</style>\n",
       "<table border=\"1\" class=\"dataframe\">\n",
       "  <thead>\n",
       "    <tr style=\"text-align: right;\">\n",
       "      <th></th>\n",
       "      <th>author</th>\n",
       "      <th>title</th>\n",
       "      <th>description</th>\n",
       "      <th>url</th>\n",
       "      <th>urlToImage</th>\n",
       "      <th>publishedAt</th>\n",
       "      <th>content</th>\n",
       "      <th>source.id</th>\n",
       "      <th>source.name</th>\n",
       "    </tr>\n",
       "  </thead>\n",
       "  <tbody>\n",
       "    <tr>\n",
       "      <th>0</th>\n",
       "      <td>Reuters</td>\n",
       "      <td>Germany's Kuehne examines offer for Signa's Ha...</td>\n",
       "      <td>German logistics entrepreneur Klaus-Michael Ku...</td>\n",
       "      <td>https://www.reuters.com/business/germanys-kueh...</td>\n",
       "      <td>https://www.reuters.com/resizer/-J5TEXoXkkAHtd...</td>\n",
       "      <td>2023-11-26T19:54:14Z</td>\n",
       "      <td>FRANKFURT, Nov 26 (Reuters) - German logistics...</td>\n",
       "      <td>reuters</td>\n",
       "      <td>Reuters</td>\n",
       "    </tr>\n",
       "  </tbody>\n",
       "</table>\n",
       "</div>"
      ],
      "text/plain": [
       "    author                                              title  \\\n",
       "0  Reuters  Germany's Kuehne examines offer for Signa's Ha...   \n",
       "\n",
       "                                         description  \\\n",
       "0  German logistics entrepreneur Klaus-Michael Ku...   \n",
       "\n",
       "                                                 url  \\\n",
       "0  https://www.reuters.com/business/germanys-kueh...   \n",
       "\n",
       "                                          urlToImage           publishedAt  \\\n",
       "0  https://www.reuters.com/resizer/-J5TEXoXkkAHtd...  2023-11-26T19:54:14Z   \n",
       "\n",
       "                                             content source.id source.name  \n",
       "0  FRANKFURT, Nov 26 (Reuters) - German logistics...   reuters     Reuters  "
      ]
     },
     "execution_count": 7,
     "metadata": {},
     "output_type": "execute_result"
    }
   ],
   "source": [
    "# combine baseline dataframes into 1\n",
    "reuters = pd.read_csv('../../data/reuters.csv')\n",
    "buzzfeed = pd.read_csv('../../data/buzzfeed.csv')\n",
    "ew = pd.read_csv('../../data/entertainment-weekly.csv')\n",
    "\n",
    "sources = [reuters,buzzfeed,ew]\n",
    "baseline = pd.concat(sources,ignore_index=True)\n",
    "baseline.head(1)"
   ]
  },
  {
   "cell_type": "code",
   "execution_count": 8,
   "metadata": {
    "tags": []
   },
   "outputs": [
    {
     "data": {
      "text/html": [
       "<div>\n",
       "<style scoped>\n",
       "    .dataframe tbody tr th:only-of-type {\n",
       "        vertical-align: middle;\n",
       "    }\n",
       "\n",
       "    .dataframe tbody tr th {\n",
       "        vertical-align: top;\n",
       "    }\n",
       "\n",
       "    .dataframe thead th {\n",
       "        text-align: right;\n",
       "    }\n",
       "</style>\n",
       "<table border=\"1\" class=\"dataframe\">\n",
       "  <thead>\n",
       "    <tr style=\"text-align: right;\">\n",
       "      <th></th>\n",
       "      <th>article_id</th>\n",
       "      <th>source_id</th>\n",
       "      <th>source_name</th>\n",
       "      <th>author</th>\n",
       "      <th>title</th>\n",
       "      <th>description</th>\n",
       "      <th>url</th>\n",
       "      <th>url_to_image</th>\n",
       "      <th>published_at</th>\n",
       "      <th>content</th>\n",
       "      <th>category</th>\n",
       "      <th>article</th>\n",
       "      <th>title_sentiment</th>\n",
       "    </tr>\n",
       "  </thead>\n",
       "  <tbody>\n",
       "    <tr>\n",
       "      <th>0</th>\n",
       "      <td>81664</td>\n",
       "      <td>NaN</td>\n",
       "      <td>Forbes</td>\n",
       "      <td>Elizabeth Brownfield, Contributor, \\n Elizabet...</td>\n",
       "      <td>superstar chef yannick alléno brings refined f...</td>\n",
       "      <td>Now open in Mayfair at Four Seasons Hotel Lond...</td>\n",
       "      <td>https://www.forbes.com/sites/elizabethbrownfie...</td>\n",
       "      <td>https://imageio.forbes.com/specials-images/ima...</td>\n",
       "      <td>2023-11-01 03:27:21.000000</td>\n",
       "      <td>Pavyllon London, at Four Seasons Hotel London ...</td>\n",
       "      <td>Monaco</td>\n",
       "      <td>pavyllon london, at four seasons hotel london ...</td>\n",
       "      <td>Neutral</td>\n",
       "    </tr>\n",
       "  </tbody>\n",
       "</table>\n",
       "</div>"
      ],
      "text/plain": [
       "   article_id source_id source_name  \\\n",
       "0       81664       NaN      Forbes   \n",
       "\n",
       "                                              author  \\\n",
       "0  Elizabeth Brownfield, Contributor, \\n Elizabet...   \n",
       "\n",
       "                                               title  \\\n",
       "0  superstar chef yannick alléno brings refined f...   \n",
       "\n",
       "                                         description  \\\n",
       "0  Now open in Mayfair at Four Seasons Hotel Lond...   \n",
       "\n",
       "                                                 url  \\\n",
       "0  https://www.forbes.com/sites/elizabethbrownfie...   \n",
       "\n",
       "                                        url_to_image  \\\n",
       "0  https://imageio.forbes.com/specials-images/ima...   \n",
       "\n",
       "                 published_at  \\\n",
       "0  2023-11-01 03:27:21.000000   \n",
       "\n",
       "                                             content category  \\\n",
       "0  Pavyllon London, at Four Seasons Hotel London ...   Monaco   \n",
       "\n",
       "                                             article title_sentiment  \n",
       "0  pavyllon london, at four seasons hotel london ...         Neutral  "
      ]
     },
     "execution_count": 8,
     "metadata": {},
     "output_type": "execute_result"
    }
   ],
   "source": [
    "# import news dataset\n",
    "news = pd.read_csv('../../data/news.csv')\n",
    "news.head(1)"
   ]
  },
  {
   "cell_type": "code",
   "execution_count": 12,
   "metadata": {
    "tags": []
   },
   "outputs": [
    {
     "name": "stdout",
     "output_type": "stream",
     "text": [
      "<class 'pandas.core.frame.DataFrame'>\n",
      "RangeIndex: 300 entries, 0 to 299\n",
      "Data columns (total 9 columns):\n",
      " #   Column       Non-Null Count  Dtype \n",
      "---  ------       --------------  ----- \n",
      " 0   author       300 non-null    object\n",
      " 1   title        300 non-null    object\n",
      " 2   description  300 non-null    object\n",
      " 3   url          300 non-null    object\n",
      " 4   urlToImage   300 non-null    object\n",
      " 5   publishedAt  300 non-null    object\n",
      " 6   content      300 non-null    object\n",
      " 7   source.id    300 non-null    object\n",
      " 8   source.name  300 non-null    object\n",
      "dtypes: object(9)\n",
      "memory usage: 21.2+ KB\n",
      "<class 'pandas.core.frame.DataFrame'>\n",
      "RangeIndex: 46680 entries, 0 to 46679\n",
      "Data columns (total 13 columns):\n",
      " #   Column           Non-Null Count  Dtype \n",
      "---  ------           --------------  ----- \n",
      " 0   article_id       46680 non-null  int64 \n",
      " 1   source_id        13495 non-null  object\n",
      " 2   source_name      46680 non-null  object\n",
      " 3   author           44517 non-null  object\n",
      " 4   title            46680 non-null  object\n",
      " 5   description      46671 non-null  object\n",
      " 6   url              46680 non-null  object\n",
      " 7   url_to_image     43888 non-null  object\n",
      " 8   published_at     46680 non-null  object\n",
      " 9   content          46680 non-null  object\n",
      " 10  category         46663 non-null  object\n",
      " 11  article          46680 non-null  object\n",
      " 12  title_sentiment  46680 non-null  object\n",
      "dtypes: int64(1), object(12)\n",
      "memory usage: 4.6+ MB\n"
     ]
    }
   ],
   "source": [
    "# check dataset for patterns, outliers:\n",
    "datasets = [baseline,news]\n",
    "\n",
    "for dataset in datasets:\n",
    "    dataset.info()"
   ]
  },
  {
   "cell_type": "code",
   "execution_count": 20,
   "metadata": {},
   "outputs": [
    {
     "name": "stdout",
     "output_type": "stream",
     "text": [
      "            count unique                                                top  \\\n",
      "author        300    125                                            Reuters   \n",
      "title         300    300  Germany's Kuehne examines offer for Signa's Ha...   \n",
      "description   300    300  German logistics entrepreneur Klaus-Michael Ku...   \n",
      "url           300    300  https://www.reuters.com/business/germanys-kueh...   \n",
      "urlToImage    300    296  https://www.reuters.com/pf/resources/images/re...   \n",
      "publishedAt   300    297                               2023-11-23T05:01:03Z   \n",
      "content       300    299  This is compatible with Mac, PC, and Chrome la...   \n",
      "source.id     300      3                                            reuters   \n",
      "source.name   300      3                                            Reuters   \n",
      "\n",
      "            freq  \n",
      "author        44  \n",
      "title          1  \n",
      "description    1  \n",
      "url            1  \n",
      "urlToImage     4  \n",
      "publishedAt    2  \n",
      "content        2  \n",
      "source.id    100  \n",
      "source.name  100  \n",
      "                 count unique  \\\n",
      "source_id        13495     10   \n",
      "source_name      46680     29   \n",
      "author           44517   6195   \n",
      "title            46680  42181   \n",
      "description      46671  41875   \n",
      "url              46680  42907   \n",
      "url_to_image     43888  27642   \n",
      "published_at     46680  32573   \n",
      "content          46680  41358   \n",
      "category         46663    255   \n",
      "article          46680  42627   \n",
      "title_sentiment  46680      3   \n",
      "\n",
      "                                                               top   freq  \n",
      "source_id                                       the-times-of-india   4987  \n",
      "source_name                                         ETF Daily News  14277  \n",
      "author                                             MarketBeat News  14275  \n",
      "title                        statement by russian defence ministry     11  \n",
      "description                                         No description    511  \n",
      "url              https://timesofindia.indiatimes.com/business/i...      2  \n",
      "url_to_image     https://www.marketscreener.com/images/twitter_...    629  \n",
      "published_at                                   2023-11-08 10:05:18    122  \n",
      "content          Rashmika Mandanna shines in ethnic wear, inspi...    129  \n",
      "category                                                     Stock   3027  \n",
      "article          WASHINGTON --PresidentJoe Bidencalled the head...      6  \n",
      "title_sentiment                                            Neutral  34429  \n"
     ]
    }
   ],
   "source": [
    "for dataset in datasets:\n",
    "    print(dataset.describe(exclude=np.number).T)"
   ]
  },
  {
   "cell_type": "code",
   "execution_count": 22,
   "metadata": {},
   "outputs": [
    {
     "name": "stdout",
     "output_type": "stream",
     "text": [
      "0 3773\n"
     ]
    }
   ],
   "source": [
    "# check for duplicates\n",
    "print(baseline.duplicated().sum(),\n",
    "news.duplicated().sum())"
   ]
  },
  {
   "cell_type": "code",
   "execution_count": 27,
   "metadata": {},
   "outputs": [
    {
     "data": {
      "text/plain": [
       "0"
      ]
     },
     "execution_count": 27,
     "metadata": {},
     "output_type": "execute_result"
    }
   ],
   "source": [
    "# drop duplicate rows\n",
    "news = news.drop_duplicates()\n",
    "news.duplicated().sum()"
   ]
  },
  {
   "cell_type": "code",
   "execution_count": 28,
   "metadata": {},
   "outputs": [],
   "source": [
    "# rename title to headline, source.name to source\n",
    "baseline = baseline.rename(columns={'title':'headline','source.name':'source'})\n",
    "news = news.rename(columns={'title':'headline','source_name':'source'})"
   ]
  },
  {
   "cell_type": "code",
   "execution_count": 35,
   "metadata": {},
   "outputs": [],
   "source": [
    "# dropping all columns except for headline title, source\n",
    "baseline = baseline.filter(['headline','source'])\n",
    "news = news.filter(['headline','source'])"
   ]
  },
  {
   "cell_type": "code",
   "execution_count": 42,
   "metadata": {},
   "outputs": [],
   "source": [
    "from langdetect import detect\n",
    "\n",
    "# drop non-english headlines\n",
    "baseline['language'] = baseline['headline'].apply(detect)\n",
    "baseline = baseline[baseline['language'] == 'en']\n",
    "baseline = baseline.drop(columns='language')\n",
    "\n",
    "news['language'] = news['headline'].apply(detect)\n",
    "news = news[news['language'] == 'en']\n",
    "news = news.drop(columns='language')"
   ]
  },
  {
   "cell_type": "code",
   "execution_count": 47,
   "metadata": {},
   "outputs": [],
   "source": [
    "baseline.to_csv('baseline_clean.csv',index=False)\n",
    "news.to_csv('news_clean.csv',index=False)"
   ]
  }
 ],
 "metadata": {
  "kernelspec": {
   "display_name": "lhl",
   "language": "python",
   "name": "lhl"
  },
  "language_info": {
   "codemirror_mode": {
    "name": "ipython",
    "version": 3
   },
   "file_extension": ".py",
   "mimetype": "text/x-python",
   "name": "python",
   "nbconvert_exporter": "python",
   "pygments_lexer": "ipython3",
   "version": "3.11.5"
  }
 },
 "nbformat": 4,
 "nbformat_minor": 4
}
