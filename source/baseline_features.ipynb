{
 "cells": [
  {
   "cell_type": "code",
   "execution_count": 30,
   "metadata": {},
   "outputs": [],
   "source": [
    "import pandas as pd"
   ]
  },
  {
   "cell_type": "code",
   "execution_count": 31,
   "metadata": {},
   "outputs": [
    {
     "data": {
      "text/html": [
       "<div>\n",
       "<style scoped>\n",
       "    .dataframe tbody tr th:only-of-type {\n",
       "        vertical-align: middle;\n",
       "    }\n",
       "\n",
       "    .dataframe tbody tr th {\n",
       "        vertical-align: top;\n",
       "    }\n",
       "\n",
       "    .dataframe thead th {\n",
       "        text-align: right;\n",
       "    }\n",
       "</style>\n",
       "<table border=\"1\" class=\"dataframe\">\n",
       "  <thead>\n",
       "    <tr style=\"text-align: right;\">\n",
       "      <th></th>\n",
       "      <th>headline</th>\n",
       "      <th>source</th>\n",
       "      <th>sensational</th>\n",
       "    </tr>\n",
       "  </thead>\n",
       "  <tbody>\n",
       "    <tr>\n",
       "      <th>0</th>\n",
       "      <td>Germany's Kuehne examines offer for Signa's Ha...</td>\n",
       "      <td>reuters</td>\n",
       "      <td>0</td>\n",
       "    </tr>\n",
       "    <tr>\n",
       "      <th>1</th>\n",
       "      <td>Shoppers click 'buy' as retailers slash prices...</td>\n",
       "      <td>reuters</td>\n",
       "      <td>0</td>\n",
       "    </tr>\n",
       "    <tr>\n",
       "      <th>2</th>\n",
       "      <td>US Black Friday sales rise 2.5% -Mastercard Sp...</td>\n",
       "      <td>reuters</td>\n",
       "      <td>0</td>\n",
       "    </tr>\n",
       "    <tr>\n",
       "      <th>3</th>\n",
       "      <td>X may lose up to $75M by year-end on advertise...</td>\n",
       "      <td>reuters</td>\n",
       "      <td>0</td>\n",
       "    </tr>\n",
       "    <tr>\n",
       "      <th>4</th>\n",
       "      <td>Sri Lanka to OK Sinopec's $4.5 bln refinery pr...</td>\n",
       "      <td>reuters</td>\n",
       "      <td>0</td>\n",
       "    </tr>\n",
       "  </tbody>\n",
       "</table>\n",
       "</div>"
      ],
      "text/plain": [
       "                                            headline   source  sensational\n",
       "0  Germany's Kuehne examines offer for Signa's Ha...  reuters            0\n",
       "1  Shoppers click 'buy' as retailers slash prices...  reuters            0\n",
       "2  US Black Friday sales rise 2.5% -Mastercard Sp...  reuters            0\n",
       "3  X may lose up to $75M by year-end on advertise...  reuters            0\n",
       "4  Sri Lanka to OK Sinopec's $4.5 bln refinery pr...  reuters            0"
      ]
     },
     "execution_count": 31,
     "metadata": {},
     "output_type": "execute_result"
    }
   ],
   "source": [
    "baseline = pd.read_csv('../data/baseline.csv')\n",
    "baseline.head()"
   ]
  },
  {
   "cell_type": "code",
   "execution_count": 32,
   "metadata": {},
   "outputs": [],
   "source": [
    "# creating feature for number of words in each headline\n",
    "def count_words(text):\n",
    "    return len(text.split())\n",
    "\n",
    "baseline['headline_length'] = baseline['headline'].apply(count_words)"
   ]
  },
  {
   "cell_type": "code",
   "execution_count": 33,
   "metadata": {},
   "outputs": [],
   "source": [
    "# creating feature for a ratio of unique words to total words in a headline\n",
    "def unique_ratio(text):\n",
    "    words = text.split()\n",
    "    unique_words = len(set(words)) / len(words)\n",
    "    return unique_words\n",
    "\n",
    "baseline['unique_ratio'] = baseline['headline'].apply(unique_ratio)"
   ]
  },
  {
   "cell_type": "code",
   "execution_count": 34,
   "metadata": {},
   "outputs": [],
   "source": [
    "from preprocess_text import preprocess"
   ]
  },
  {
   "cell_type": "code",
   "execution_count": 35,
   "metadata": {},
   "outputs": [],
   "source": [
    "# recall function to preprocess text for NLP\n",
    "baseline['headline_processed'] = baseline['headline'].apply(preprocess)"
   ]
  },
  {
   "cell_type": "code",
   "execution_count": 36,
   "metadata": {},
   "outputs": [
    {
     "data": {
      "text/html": [
       "<div>\n",
       "<style scoped>\n",
       "    .dataframe tbody tr th:only-of-type {\n",
       "        vertical-align: middle;\n",
       "    }\n",
       "\n",
       "    .dataframe tbody tr th {\n",
       "        vertical-align: top;\n",
       "    }\n",
       "\n",
       "    .dataframe thead th {\n",
       "        text-align: right;\n",
       "    }\n",
       "</style>\n",
       "<table border=\"1\" class=\"dataframe\">\n",
       "  <thead>\n",
       "    <tr style=\"text-align: right;\">\n",
       "      <th></th>\n",
       "      <th>headline</th>\n",
       "      <th>source</th>\n",
       "      <th>sensational</th>\n",
       "      <th>headline_length</th>\n",
       "      <th>unique_ratio</th>\n",
       "      <th>headline_processed</th>\n",
       "    </tr>\n",
       "  </thead>\n",
       "  <tbody>\n",
       "    <tr>\n",
       "      <th>0</th>\n",
       "      <td>Germany's Kuehne examines offer for Signa's Ha...</td>\n",
       "      <td>reuters</td>\n",
       "      <td>0</td>\n",
       "      <td>10</td>\n",
       "      <td>1.0</td>\n",
       "      <td>germani kuehn examin offer signa hamburg skysc...</td>\n",
       "    </tr>\n",
       "    <tr>\n",
       "      <th>1</th>\n",
       "      <td>Shoppers click 'buy' as retailers slash prices...</td>\n",
       "      <td>reuters</td>\n",
       "      <td>0</td>\n",
       "      <td>11</td>\n",
       "      <td>1.0</td>\n",
       "      <td>shopper click buy retail slash price ahead cyb...</td>\n",
       "    </tr>\n",
       "    <tr>\n",
       "      <th>2</th>\n",
       "      <td>US Black Friday sales rise 2.5% -Mastercard Sp...</td>\n",
       "      <td>reuters</td>\n",
       "      <td>0</td>\n",
       "      <td>8</td>\n",
       "      <td>1.0</td>\n",
       "      <td>u black friday sale rise 25 mastercard spendin...</td>\n",
       "    </tr>\n",
       "    <tr>\n",
       "      <th>3</th>\n",
       "      <td>X may lose up to $75M by year-end on advertise...</td>\n",
       "      <td>reuters</td>\n",
       "      <td>0</td>\n",
       "      <td>11</td>\n",
       "      <td>1.0</td>\n",
       "      <td>x may lose 75m yearend advertis exodu</td>\n",
       "    </tr>\n",
       "    <tr>\n",
       "      <th>4</th>\n",
       "      <td>Sri Lanka to OK Sinopec's $4.5 bln refinery pr...</td>\n",
       "      <td>reuters</td>\n",
       "      <td>0</td>\n",
       "      <td>12</td>\n",
       "      <td>1.0</td>\n",
       "      <td>sri lanka ok sinopec 45 bln refineri propos mo...</td>\n",
       "    </tr>\n",
       "  </tbody>\n",
       "</table>\n",
       "</div>"
      ],
      "text/plain": [
       "                                            headline   source  sensational  \\\n",
       "0  Germany's Kuehne examines offer for Signa's Ha...  reuters            0   \n",
       "1  Shoppers click 'buy' as retailers slash prices...  reuters            0   \n",
       "2  US Black Friday sales rise 2.5% -Mastercard Sp...  reuters            0   \n",
       "3  X may lose up to $75M by year-end on advertise...  reuters            0   \n",
       "4  Sri Lanka to OK Sinopec's $4.5 bln refinery pr...  reuters            0   \n",
       "\n",
       "   headline_length  unique_ratio  \\\n",
       "0               10           1.0   \n",
       "1               11           1.0   \n",
       "2                8           1.0   \n",
       "3               11           1.0   \n",
       "4               12           1.0   \n",
       "\n",
       "                                  headline_processed  \n",
       "0  germani kuehn examin offer signa hamburg skysc...  \n",
       "1  shopper click buy retail slash price ahead cyb...  \n",
       "2  u black friday sale rise 25 mastercard spendin...  \n",
       "3              x may lose 75m yearend advertis exodu  \n",
       "4  sri lanka ok sinopec 45 bln refineri propos mo...  "
      ]
     },
     "execution_count": 36,
     "metadata": {},
     "output_type": "execute_result"
    }
   ],
   "source": [
    "baseline.head()"
   ]
  },
  {
   "cell_type": "code",
   "execution_count": 42,
   "metadata": {},
   "outputs": [
    {
     "data": {
      "text/plain": [
       "product    40\n",
       "’          30\n",
       "new        22\n",
       "say        18\n",
       "u          17\n",
       "gift       17\n",
       "make       17\n",
       "day        15\n",
       "thing      15\n",
       "season     13\n",
       "realli     12\n",
       "home       12\n",
       "want       11\n",
       "deal       11\n",
       "star       10\n",
       "peopl      10\n",
       "first       9\n",
       "matthew     9\n",
       "perri       9\n",
       "25          8\n",
       "33          8\n",
       "buy         8\n",
       "32          8\n",
       "share       8\n",
       "get         8\n",
       "30          7\n",
       "trailer     7\n",
       "movi        7\n",
       "one         7\n",
       "show        6\n",
       "Name: count, dtype: int64"
      ]
     },
     "execution_count": 42,
     "metadata": {},
     "output_type": "execute_result"
    }
   ],
   "source": [
    "pd.Series(' '.join(baseline['headline_processed']).split()).value_counts()[:30]"
   ]
  },
  {
   "cell_type": "code",
   "execution_count": null,
   "metadata": {},
   "outputs": [],
   "source": []
  }
 ],
 "metadata": {
  "kernelspec": {
   "display_name": "lhl",
   "language": "python",
   "name": "lhl"
  },
  "language_info": {
   "codemirror_mode": {
    "name": "ipython",
    "version": 3
   },
   "file_extension": ".py",
   "mimetype": "text/x-python",
   "name": "python",
   "nbconvert_exporter": "python",
   "pygments_lexer": "ipython3",
   "version": "3.11.5"
  }
 },
 "nbformat": 4,
 "nbformat_minor": 2
}
