{
 "cells": [
  {
   "cell_type": "code",
   "execution_count": 10,
   "metadata": {},
   "outputs": [],
   "source": [
    "import pandas as pd\n",
    "from preprocess_text import count_words, unique_ratio, preprocess, sensational_words\n",
    "\n",
    "pd.set_option('display.max_colwidth', 0)"
   ]
  },
  {
   "cell_type": "code",
   "execution_count": 11,
   "metadata": {},
   "outputs": [
    {
     "data": {
      "text/html": [
       "<div>\n",
       "<style scoped>\n",
       "    .dataframe tbody tr th:only-of-type {\n",
       "        vertical-align: middle;\n",
       "    }\n",
       "\n",
       "    .dataframe tbody tr th {\n",
       "        vertical-align: top;\n",
       "    }\n",
       "\n",
       "    .dataframe thead th {\n",
       "        text-align: right;\n",
       "    }\n",
       "</style>\n",
       "<table border=\"1\" class=\"dataframe\">\n",
       "  <thead>\n",
       "    <tr style=\"text-align: right;\">\n",
       "      <th></th>\n",
       "      <th>source</th>\n",
       "      <th>headline</th>\n",
       "      <th>title_sentiment</th>\n",
       "    </tr>\n",
       "  </thead>\n",
       "  <tbody>\n",
       "    <tr>\n",
       "      <th>0</th>\n",
       "      <td>Forbes</td>\n",
       "      <td>superstar chef yannick alléno brings refined french cuisine to pavyllon london</td>\n",
       "      <td>Neutral</td>\n",
       "    </tr>\n",
       "    <tr>\n",
       "      <th>1</th>\n",
       "      <td>CNA</td>\n",
       "      <td>nice claim top spot in ligue 1 with late win at clermont</td>\n",
       "      <td>Positive</td>\n",
       "    </tr>\n",
       "    <tr>\n",
       "      <th>2</th>\n",
       "      <td>Time</td>\n",
       "      <td>amphibians are the world’s most vulnerable species and threats are increasing</td>\n",
       "      <td>Negative</td>\n",
       "    </tr>\n",
       "    <tr>\n",
       "      <th>3</th>\n",
       "      <td>Phys.Org</td>\n",
       "      <td>image: rusty red waters in madagascar</td>\n",
       "      <td>Neutral</td>\n",
       "    </tr>\n",
       "    <tr>\n",
       "      <th>4</th>\n",
       "      <td>Digital Trends</td>\n",
       "      <td>everything leaving max (formerly hbo max) in november 2023</td>\n",
       "      <td>Neutral</td>\n",
       "    </tr>\n",
       "  </tbody>\n",
       "</table>\n",
       "</div>"
      ],
      "text/plain": [
       "           source  \\\n",
       "0  Forbes           \n",
       "1  CNA              \n",
       "2  Time             \n",
       "3  Phys.Org         \n",
       "4  Digital Trends   \n",
       "\n",
       "                                                                         headline  \\\n",
       "0  superstar chef yannick alléno brings refined french cuisine to pavyllon london   \n",
       "1  nice claim top spot in ligue 1 with late win at clermont                         \n",
       "2  amphibians are the world’s most vulnerable species and threats are increasing    \n",
       "3  image: rusty red waters in madagascar                                            \n",
       "4  everything leaving max (formerly hbo max) in november 2023                       \n",
       "\n",
       "  title_sentiment  \n",
       "0  Neutral         \n",
       "1  Positive        \n",
       "2  Negative        \n",
       "3  Neutral         \n",
       "4  Neutral         "
      ]
     },
     "execution_count": 11,
     "metadata": {},
     "output_type": "execute_result"
    }
   ],
   "source": [
    "news = pd.read_csv('../data/news_clean.csv')\n",
    "news.head()"
   ]
  },
  {
   "cell_type": "code",
   "execution_count": 3,
   "metadata": {},
   "outputs": [],
   "source": [
    "news = news.drop(columns='title_sentiment')"
   ]
  },
  {
   "cell_type": "code",
   "execution_count": 4,
   "metadata": {},
   "outputs": [],
   "source": [
    "news['headline_length'] = news['headline'].apply(count_words)"
   ]
  },
  {
   "cell_type": "code",
   "execution_count": 5,
   "metadata": {},
   "outputs": [],
   "source": [
    "news['unique_ratio'] = news['headline'].apply(unique_ratio)"
   ]
  },
  {
   "cell_type": "code",
   "execution_count": 6,
   "metadata": {},
   "outputs": [],
   "source": [
    "news['headline_processed'] = news['headline'].apply(preprocess)"
   ]
  },
  {
   "cell_type": "code",
   "execution_count": 7,
   "metadata": {},
   "outputs": [],
   "source": [
    "# get frequency, frequency ratio of commonly used sensational words\n",
    "news['frequency'] = news['headline_processed'].apply(lambda row: sum([row.split().count(word) for word in sensational_words]))\n",
    "news['frequency_ratio'] = news['frequency'] / news['headline_length']\n",
    "# frequency ratio is a more accurate measure than frequency\n",
    "news = news.drop(columns='frequency')"
   ]
  },
  {
   "cell_type": "code",
   "execution_count": 8,
   "metadata": {},
   "outputs": [],
   "source": [
    "news = news[['headline','headline_processed','headline_length','unique_ratio','frequency_ratio','source']]"
   ]
  },
  {
   "cell_type": "code",
   "execution_count": 11,
   "metadata": {},
   "outputs": [],
   "source": [
    "# creating dummy variables for news sources\n",
    "news = pd.get_dummies(news, columns=['source'], drop_first=False, dtype=int)"
   ]
  },
  {
   "cell_type": "code",
   "execution_count": 13,
   "metadata": {},
   "outputs": [
    {
     "name": "stdout",
     "output_type": "stream",
     "text": [
      "<class 'pandas.core.frame.DataFrame'>\n",
      "RangeIndex: 44907 entries, 0 to 44906\n",
      "Data columns (total 34 columns):\n",
      " #   Column                               Non-Null Count  Dtype  \n",
      "---  ------                               --------------  -----  \n",
      " 0   headline                             44907 non-null  object \n",
      " 1   headline_processed                   44907 non-null  object \n",
      " 2   headline_length                      44907 non-null  int64  \n",
      " 3   unique_ratio                         44907 non-null  float64\n",
      " 4   frequency_ratio                      44907 non-null  float64\n",
      " 5   source_ABC News                      44907 non-null  int32  \n",
      " 6   source_Al Jazeera English            44907 non-null  int32  \n",
      " 7   source_AllAfrica - Top Africa News   44907 non-null  int32  \n",
      " 8   source_Android Central               44907 non-null  int32  \n",
      " 9   source_BBC News                      44907 non-null  int32  \n",
      " 10  source_Boing Boing                   44907 non-null  int32  \n",
      " 11  source_Business Insider              44907 non-null  int32  \n",
      " 12  source_CNA                           44907 non-null  int32  \n",
      " 13  source_CNN                           44907 non-null  int32  \n",
      " 14  source_Deadline                      44907 non-null  int32  \n",
      " 15  source_Digital Trends                44907 non-null  int32  \n",
      " 16  source_ETF Daily News                44907 non-null  int32  \n",
      " 17  source_Euronews                      44907 non-null  int32  \n",
      " 18  source_Forbes                        44907 non-null  int32  \n",
      " 19  source_Gizmodo.com                   44907 non-null  int32  \n",
      " 20  source_Globalsecurity.org            44907 non-null  int32  \n",
      " 21  source_GlobeNewswire                 44907 non-null  int32  \n",
      " 22  source_International Business Times  44907 non-null  int32  \n",
      " 23  source_Marketscreener.com            44907 non-null  int32  \n",
      " 24  source_NPR                           44907 non-null  int32  \n",
      " 25  source_Phys.Org                      44907 non-null  int32  \n",
      " 26  source_RT                            44907 non-null  int32  \n",
      " 27  source_ReadWrite                     44907 non-null  int32  \n",
      " 28  source_The Indian Express            44907 non-null  int32  \n",
      " 29  source_The Punch                     44907 non-null  int32  \n",
      " 30  source_The Times of India            44907 non-null  int32  \n",
      " 31  source_The Verge                     44907 non-null  int32  \n",
      " 32  source_Time                          44907 non-null  int32  \n",
      " 33  source_Wired                         44907 non-null  int32  \n",
      "dtypes: float64(2), int32(29), int64(1), object(2)\n",
      "memory usage: 6.7+ MB\n"
     ]
    }
   ],
   "source": [
    "news.info()"
   ]
  },
  {
   "cell_type": "code",
   "execution_count": 9,
   "metadata": {},
   "outputs": [],
   "source": [
    "news.to_csv('news_features.csv',index=False)"
   ]
  },
  {
   "cell_type": "code",
   "execution_count": null,
   "metadata": {},
   "outputs": [],
   "source": []
  }
 ],
 "metadata": {
  "kernelspec": {
   "display_name": "lhl",
   "language": "python",
   "name": "lhl"
  },
  "language_info": {
   "codemirror_mode": {
    "name": "ipython",
    "version": 3
   },
   "file_extension": ".py",
   "mimetype": "text/x-python",
   "name": "python",
   "nbconvert_exporter": "python",
   "pygments_lexer": "ipython3",
   "version": "3.11.5"
  }
 },
 "nbformat": 4,
 "nbformat_minor": 2
}
